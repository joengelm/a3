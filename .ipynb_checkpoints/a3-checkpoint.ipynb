{
 "cells": [
  {
   "cell_type": "code",
   "execution_count": 1,
   "metadata": {
    "collapsed": true
   },
   "outputs": [],
   "source": [
    "def get_samples(data_points, points_per_sample):\n",
    "    return [data_points[i:i+points_per_sample] for i in range(0, len(data_points), points_per_sample)]"
   ]
  },
  {
   "cell_type": "code",
   "execution_count": 2,
   "metadata": {
    "collapsed": false
   },
   "outputs": [
    {
     "name": "stdout",
     "output_type": "stream",
     "text": [
      "Found 30 samples for sitting\n",
      "Found 30 samples for walking\n",
      "Found 30 samples for walking_holding_phone\n",
      "Found 30 samples for stairs\n",
      "Found 30 samples for car\n"
     ]
    }
   ],
   "source": [
    "import csv\n",
    "import math\n",
    "import pandas as pd\n",
    "import matplotlib.pyplot as plt\n",
    "\n",
    "POINTS_PER_SAMPLE = 1000\n",
    "\n",
    "activities = [\"sitting\", \"walking\", \"walking_holding_phone\", \"stairs\", \"car\"]\n",
    "\n",
    "activity_samples = {}    # Mapping from activity to list of 10 second data frames\n",
    "for activity in activities:\n",
    "    activity_samples[activity] = get_samples(pd.read_csv(activity + '.csv'), POINTS_PER_SAMPLE)\n",
    "    print \"Found\", len(activity_samples[activity]), \"samples for\", activity"
   ]
  },
  {
   "cell_type": "code",
   "execution_count": 3,
   "metadata": {
    "collapsed": false
   },
   "outputs": [
    {
     "name": "stdout",
     "output_type": "stream",
     "text": [
      "timestamp          331235.095000\n",
      "attitude_roll           1.228910\n",
      "attitude_pitch         -1.301880\n",
      "attitude_yaw            0.128596\n",
      "rotation_rate_x        -0.002250\n",
      "rotation_rate_y        -0.124872\n",
      "rotation_rate_z        -0.115039\n",
      "gravity_x               0.118031\n",
      "gravity_y               0.952927\n",
      "gravity_z               0.006355\n",
      "user_acc_x              0.023014\n",
      "user_acc_y              0.024710\n",
      "user_acc_z              0.083059\n",
      "dtype: float64\n"
     ]
    }
   ],
   "source": [
    "print activity_samples['walking'][0].mean()"
   ]
  },
  {
   "cell_type": "code",
   "execution_count": 4,
   "metadata": {
    "collapsed": false
   },
   "outputs": [],
   "source": [
    "import numpy.fft as fft\n",
    "import numpy as np\n",
    "\n",
    "ACCELERATION_FIELDS = ['user_acc_x', 'user_acc_y', 'user_acc_z']\n",
    "ATTITUDE_FIELDS = ['attitude_roll', 'attitude_pitch', 'attitude_yaw']\n",
    "ROTATION_RATE_FIELDS = ['rotation_rate_x', 'rotation_rate_y', 'rotation_rate_z']\n",
    "GRAVITY_FIELDS = ['gravity_x', 'gravity_y', 'gravity_z']\n",
    "\n",
    "FIELDS = ACCELERATION_FIELDS + ATTITUDE_FIELDS + ROTATION_RATE_FIELDS + GRAVITY_FIELDS\n",
    "\n",
    "activity_features = {}    # Mapping from activity to list of samples' features\n",
    "for activity in activities:\n",
    "    activity_features[activity] = []\n",
    "    for sample in activity_samples[activity]:\n",
    "        sample_features = [sample.mean()[field] for field in FIELDS]\n",
    "        sample_features += [sample.var()[field] for field in FIELDS]\n",
    "        #sample_features += [np.argmax(np.abs(fft.fft(sample[field]))) for field in FIELDS]\n",
    "        #sample_features += [max(np.abs(fft.fft(sample[field]))) for field in FIELDS]\n",
    "        activity_features[activity].append(sample_features)\n",
    "\n",
    "X = []\n",
    "X_train = []\n",
    "X_test = []\n",
    "for activity in activities:\n",
    "    X += activity_features[activity]\n",
    "    X_train += activity_features[activity][:26]\n",
    "    X_test += activity_features[activity][26:]\n",
    "\n",
    "# Generate labels\n",
    "y = [int(math.floor(float(i) / 150 * 5)) for i in range(0, 150)]\n",
    "y_train = [int(math.floor(float(i) / 130 * 5)) for i in range(0, 130)]\n",
    "y_test = [int(math.floor(float(i) / 20 * 5)) for i in range(0, 20)]\n"
   ]
  },
  {
   "cell_type": "code",
   "execution_count": 5,
   "metadata": {
    "collapsed": false
   },
   "outputs": [
    {
     "name": "stdout",
     "output_type": "stream",
     "text": [
      "SVM: 0.75 (+/- 0.07)\n",
      "Decision Tree: 0.99 (+/- 0.02)\n",
      "Decision Tree: 0.81 (+/- 0.08)\n"
     ]
    }
   ],
   "source": [
    "from sklearn import cross_validation\n",
    "\n",
    "# SVM\n",
    "from sklearn import svm\n",
    "svmClassifier = svm.SVC()\n",
    "svmScores = cross_validation.cross_val_score(svmClassifier, X, y)\n",
    "print(\"SVM: %0.2f (+/- %0.2f)\" % (svmScores.mean(), svmScores.std() * 2))\n",
    "\n",
    "# Decision Tree\n",
    "from sklearn.tree import DecisionTreeClassifier\n",
    "dtClassifier = DecisionTreeClassifier()\n",
    "dtScores = cross_validation.cross_val_score(dtClassifier, X, y)\n",
    "print(\"Decision Tree: %0.2f (+/- %0.2f)\" % (dtScores.mean(), dtScores.std() * 2))\n",
    "\n",
    "# Logisitic Regression\n",
    "from sklearn.linear_model import LogisticRegression\n",
    "lrClassifier = LogisticRegression()\n",
    "lrScores = cross_validation.cross_val_score(lrClassifier, X, y)\n",
    "print(\"Decision Tree: %0.2f (+/- %0.2f)\" % (lrScores.mean(), lrScores.std() * 2))"
   ]
  },
  {
   "cell_type": "code",
   "execution_count": null,
   "metadata": {
    "collapsed": true
   },
   "outputs": [],
   "source": []
  }
 ],
 "metadata": {
  "kernelspec": {
   "display_name": "Python 2",
   "language": "python",
   "name": "python2"
  },
  "language_info": {
   "codemirror_mode": {
    "name": "ipython",
    "version": 2
   },
   "file_extension": ".py",
   "mimetype": "text/x-python",
   "name": "python",
   "nbconvert_exporter": "python",
   "pygments_lexer": "ipython2",
   "version": "2.7.9"
  }
 },
 "nbformat": 4,
 "nbformat_minor": 0
}
